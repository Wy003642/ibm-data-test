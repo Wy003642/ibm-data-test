{
 "cells": [
  {
   "cell_type": "markdown",
   "id": "1a98c0f1-b859-485f-a6b7-77b3712708d5",
   "metadata": {
    "tags": []
   },
   "source": [
    "#Exercise 2: Create markdown cell with title of the notebook\n",
    "\n",
    "# Data Science Tools and Ecosystem"
   ]
  },
  {
   "cell_type": "markdown",
   "id": "0d9a7cfd-6c69-44cc-9f1d-414b738205a6",
   "metadata": {},
   "source": [
    "#Exercise 3 - Create a markdown cell for an introduction.\n",
    "\n",
    "In this notebook, Data Science Tools and Ecosystem are summarized."
   ]
  },
  {
   "cell_type": "markdown",
   "id": "c180cab6-f07b-4db8-898a-1fc549500497",
   "metadata": {
    "tags": []
   },
   "source": [
    "#Exercise 4 - Create a markdown cell to list data science languages\n",
    "ordered list\n",
    "\n",
    "Some of the popular languages that Data Scientists use are:\n",
    "1. Python\n",
    "2. R\n",
    "3. SQL\n",
    "4. Javascript\n",
    "5. C++\n",
    "6. Julia"
   ]
  },
  {
   "cell_type": "markdown",
   "id": "e6d21789-0f6f-4426-867f-208d41cfb8f2",
   "metadata": {},
   "source": [
    "#Exercise 5 - Create a markdown cell to list data science libraries\n",
    "ordered list\n",
    "\n",
    "Some of the commonly used libraries used by Data Scientists include:\n",
    "1. Seaborn\n",
    "2. Pandas\n",
    "3. Numpy\n",
    "4. ggplot2"
   ]
  },
  {
   "cell_type": "markdown",
   "id": "e6207bfa-b429-4ff6-a682-ffa425a437e8",
   "metadata": {},
   "source": [
    "#Exercise 6 - Create a markdown cell with a table of Data Science tools\n",
    "\n",
    "|Data Science Tools|\n",
    "|------------------|\n",
    "|Jupyter Notebooks|\n",
    "|R studio|\n",
    "|Pycharm|"
   ]
  },
  {
   "cell_type": "markdown",
   "id": "5a4ec187-4fd6-4c8c-9a0a-07aa1de370cb",
   "metadata": {},
   "source": [
    "#Exercise 7 - Create a markdown cell introducing arithmetic expression examples\n",
    "\n",
    "### Below are a few examples of evaluating arithmetic expressions in Python"
   ]
  },
  {
   "cell_type": "code",
   "execution_count": 2,
   "id": "2f6d6b13-5449-4793-a69b-9da627cd5051",
   "metadata": {},
   "outputs": [
    {
     "data": {
      "text/plain": [
       "17"
      ]
     },
     "execution_count": 2,
     "metadata": {},
     "output_type": "execute_result"
    }
   ],
   "source": [
    "#Exercise 8 - Create a code cell to multiply and add numbers\n",
    "\n",
    "#This a simple arithmetic expression to mutiply then add integers\n",
    "(3*4)+5"
   ]
  },
  {
   "cell_type": "code",
   "execution_count": 7,
   "id": "d4890d0f-b694-4757-8d6f-096a4a0b8936",
   "metadata": {},
   "outputs": [
    {
     "name": "stdout",
     "output_type": "stream",
     "text": [
      "3.33\n"
     ]
    }
   ],
   "source": [
    "#Exercise 9 - Create a code cell to convert minutes to hours\n",
    "#This will convert 200 minutes to hours by diving by 60\n",
    "minutes_in_hour = 60\n",
    "minute_to_be_converted= 200\n",
    "minute_into_hour= minute_to_be_converted/minutes_in_hour\n",
    "print(round(minute_into_hour,2))"
   ]
  },
  {
   "cell_type": "markdown",
   "id": "23ed4727-b31a-400b-bcfa-bc32aaad2962",
   "metadata": {},
   "source": [
    "#Exercise 10 - Insert a markdown cell to list Objectives\n",
    "unordered list\n",
    "\n",
    "__Objectives:__\n",
    "- Python\n",
    "- R\n",
    "- SQL\n",
    "- Javascript\n",
    "- C++\n",
    "- Julia\n"
   ]
  },
  {
   "cell_type": "markdown",
   "id": "27868e54-d162-45d4-ab6f-360d446fbe4e",
   "metadata": {},
   "source": [
    "#Exercise 11 - Create a markdown cell to indicate the Author's name\n",
    "\n",
    "## Author\n",
    "Arthur\n"
   ]
  },
  {
   "cell_type": "markdown",
   "id": "23b60f17-91a2-4b33-98fa-ca78c1564101",
   "metadata": {},
   "source": [
    "#Exercise 12 - Share your notebook through GitHub\n",
    "\n",
    "[Link to git hub](https://github.com/Wy003642/IBM-coursera-coursework.git)"
   ]
  }
 ],
 "metadata": {
  "kernelspec": {
   "display_name": "Python 3 (ipykernel)",
   "language": "python",
   "name": "python3"
  },
  "language_info": {
   "codemirror_mode": {
    "name": "ipython",
    "version": 3
   },
   "file_extension": ".py",
   "mimetype": "text/x-python",
   "name": "python",
   "nbconvert_exporter": "python",
   "pygments_lexer": "ipython3",
   "version": "3.9.13"
  }
 },
 "nbformat": 4,
 "nbformat_minor": 5
}
